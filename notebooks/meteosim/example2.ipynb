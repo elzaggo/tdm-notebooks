{
 "cells": [
  {
   "cell_type": "markdown",
   "metadata": {},
   "source": [
    "# Plot cumulative precipitation\n",
    "\n",
    "Minimalistic example: extract total precipitation data from a netcdf dataset, plot accumulation as a function of time."
   ]
  },
  {
   "cell_type": "code",
   "execution_count": null,
   "metadata": {},
   "outputs": [],
   "source": [
    "import matplotlib.pyplot as plt\n",
    "%matplotlib inline\n",
    "from IPython.display import HTML\n",
    "import matplotlib.pyplot as plt\n",
    "import matplotlib.animation\n",
    "import numpy as np\n",
    "import xarray as xr\n",
    "from datetime import datetime"
   ]
  },
  {
   "cell_type": "code",
   "execution_count": null,
   "metadata": {},
   "outputs": [],
   "source": [
    "def find_field(dataset, field_long_name):\n",
    "    for v in dataset:\n",
    "        if dataset[v].attrs['long_name'] == field_long_name:\n",
    "            return dataset[v]\n",
    "    raise ValueError('cannot find {}'.format(field_long_name))\n",
    "\n",
    "def to_datetime(t):\n",
    "    ns = 1e-9  # nanosecs in a sec\n",
    "    FMT = '%Y-%m-%d_%H:%M:%S'\n",
    "    return datetime.utcfromtimestamp(t.values.astype(int) * ns).strftime(FMT)"
   ]
  },
  {
   "cell_type": "code",
   "execution_count": null,
   "metadata": {},
   "outputs": [],
   "source": [
    "fname = './moloch_2018110302_AAABBBBCCC3001-lonlat.nc'"
   ]
  },
  {
   "cell_type": "code",
   "execution_count": null,
   "metadata": {},
   "outputs": [],
   "source": [
    "dataset = xr.open_dataset(fname)"
   ]
  },
  {
   "cell_type": "code",
   "execution_count": null,
   "metadata": {},
   "outputs": [],
   "source": [
    "times = dataset.coords['time']\n",
    "lons = dataset.coords['lon']\n",
    "lats = dataset.coords['lat']"
   ]
  },
  {
   "cell_type": "code",
   "execution_count": null,
   "metadata": {},
   "outputs": [],
   "source": [
    "lons.max(), lons.min(), lats.max(), lats.min()"
   ]
  },
  {
   "cell_type": "code",
   "execution_count": null,
   "metadata": {},
   "outputs": [],
   "source": [
    "from math import pi\n",
    "radius = 6371 * 1000 # radius earth [m]\n",
    "theta = pi/180 * lats.values\n",
    "phi = pi/180 * lons.values\n",
    "stheta = np.sin(theta)\n",
    "dstheta = stheta[1:] - stheta[:-1]\n",
    "dphi = phi[1:] - phi[:-1]\n",
    "areas = radius**2 * np.outer(dstheta, dphi)"
   ]
  },
  {
   "cell_type": "code",
   "execution_count": null,
   "metadata": {},
   "outputs": [],
   "source": [
    "tpec = find_field(dataset, 'Total Precipitation')"
   ]
  },
  {
   "cell_type": "code",
   "execution_count": null,
   "metadata": {},
   "outputs": [],
   "source": [
    "tpec.attrs"
   ]
  },
  {
   "cell_type": "code",
   "execution_count": null,
   "metadata": {},
   "outputs": [],
   "source": [
    "flux = np.multiply(tpec[:, :-1, :-1], areas) # kg on each node rectangle"
   ]
  },
  {
   "cell_type": "code",
   "execution_count": null,
   "metadata": {},
   "outputs": [],
   "source": [
    "flux.sum(['lat', 'lon']).plot() # [kg]"
   ]
  },
  {
   "cell_type": "code",
   "execution_count": null,
   "metadata": {},
   "outputs": [],
   "source": [
    "cflux = flux.cumsum('time')"
   ]
  },
  {
   "cell_type": "code",
   "execution_count": null,
   "metadata": {},
   "outputs": [],
   "source": [
    "tpec.max(['lon', 'lat']).plot()"
   ]
  },
  {
   "cell_type": "code",
   "execution_count": null,
   "metadata": {},
   "outputs": [],
   "source": [
    "import cartopy.crs as ccrs\n",
    "ax = plt.axes(projection=ccrs.PlateCarree())\n",
    "ax.stock_img()\n",
    "ax.set_extent((lons.min(), lons.max(), lats.min(), lats.max()), crs=ccrs.PlateCarree())\n",
    "\n",
    "levels = np.arange(0, 20, 0.5) # FIXME find a better color map!\n",
    "fig = plt.figure(dpi=144)\n",
    "c = plt.contourf(tpec[0], levels=levels)\n",
    "plt.colorbar(c)\n",
    "plt.gca().set_aspect(\"equal\")"
   ]
  },
  {
   "cell_type": "code",
   "execution_count": null,
   "metadata": {},
   "outputs": [],
   "source": [
    "ax = plt.axes(projection=ccrs.PlateCarree())\n",
    "ax.stock_img()\n",
    "ax.set_extent((lons.min(), lons.max(), lats.min(), lats.max()), crs=ccrs.PlateCarree())"
   ]
  }
 ],
 "metadata": {
  "kernelspec": {
   "display_name": "Python 3",
   "language": "python",
   "name": "python3"
  },
  "language_info": {
   "codemirror_mode": {
    "name": "ipython",
    "version": 3
   },
   "file_extension": ".py",
   "mimetype": "text/x-python",
   "name": "python",
   "nbconvert_exporter": "python",
   "pygments_lexer": "ipython3",
   "version": "3.6.7"
  }
 },
 "nbformat": 4,
 "nbformat_minor": 2
}
