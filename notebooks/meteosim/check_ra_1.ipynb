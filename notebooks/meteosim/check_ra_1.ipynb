{
 "cells": [
  {
   "cell_type": "markdown",
   "metadata": {},
   "source": [
    "# Check data projection example"
   ]
  },
  {
   "cell_type": "code",
   "execution_count": null,
   "metadata": {},
   "outputs": [],
   "source": [
    "%matplotlib inline\n",
    "import os\n",
    "import wget\n",
    "import numpy as np\n",
    "import matplotlib as mpl\n",
    "import matplotlib.pyplot as plt\n",
    "from matplotlib import cm\n",
    "from colormap import Colormap\n",
    "from PIL import Image\n",
    "import cartopy.crs as ccrs\n",
    "import matplotlib.pyplot as plt"
   ]
  },
  {
   "cell_type": "code",
   "execution_count": null,
   "metadata": {},
   "outputs": [],
   "source": [
    "dataset = 'meteosim/bolam/2018073001/6155f56b-40b1-4b9f-bad7-e785940b2076-lonlat'\n",
    "timestamp = '2018-07-30_13:00:00'\n",
    "region = '4.5:512:0.0226_36.0:512:0.0226'\n",
    "var = 'temp2m'\n",
    "rest_root = 'https://rest.tdm-project.it/tdm/odata/product'\n",
    "url = os.path.join(rest_root, dataset, timestamp, region, var) + '.tif'"
   ]
  },
  {
   "cell_type": "code",
   "execution_count": null,
   "metadata": {},
   "outputs": [],
   "source": [
    "url"
   ]
  },
  {
   "cell_type": "code",
   "execution_count": null,
   "metadata": {},
   "outputs": [],
   "source": [
    "fname = wget.download(url, out='temp2m.tif')"
   ]
  },
  {
   "cell_type": "code",
   "execution_count": null,
   "metadata": {},
   "outputs": [],
   "source": [
    "img = Image.open(fname)\n",
    "pix = np.array(img)"
   ]
  },
  {
   "cell_type": "code",
   "execution_count": null,
   "metadata": {},
   "outputs": [],
   "source": [
    "fname"
   ]
  },
  {
   "cell_type": "code",
   "execution_count": null,
   "metadata": {},
   "outputs": [],
   "source": [
    "!gdalinfo temp2m.tif"
   ]
  },
  {
   "cell_type": "code",
   "execution_count": null,
   "metadata": {},
   "outputs": [],
   "source": [
    "img_extent = [4.5, 4.5 + 512 * 0.0226, 47.5486 - 0.0226 * 512, 47.5486]\n",
    "img_extent"
   ]
  },
  {
   "cell_type": "code",
   "execution_count": null,
   "metadata": {},
   "outputs": [],
   "source": [
    "c = Colormap()\n",
    "c.plot_colormap('misc')"
   ]
  },
  {
   "cell_type": "code",
   "execution_count": null,
   "metadata": {},
   "outputs": [],
   "source": [
    "%matplotlib inline\n",
    "import cartopy.crs as ccrs\n",
    "import matplotlib.pyplot as plt\n",
    "# 4.5:512:0.0226_36.0:512:0.0226\n",
    "fig = plt.figure(figsize=(36, 54))\n",
    "extent = [11.5, 13.5, 36, 38]\n",
    "ax = plt.axes(projection=ccrs.PlateCarree())\n",
    "ax.coastlines(resolution='10m', color='black', linewidth=1)\n",
    "ax.set_extent(extent, crs=ccrs.PlateCarree())\n",
    "ax.imshow(pix, origin='upper', extent=img_extent,  transform=ccrs.PlateCarree(), cmap='jet')"
   ]
  },
  {
   "cell_type": "code",
   "execution_count": null,
   "metadata": {},
   "outputs": [],
   "source": [
    "# 4.5:512:0.0226_36.0:512:0.0226\n",
    "fig = plt.figure(figsize=(18, 20))\n",
    "extent = [2, 20, 35, 50]\n",
    "delta = 0.0226 * 511/512\n",
    "img_extent = [4.5, 4.5 + 511 * delta, 36, 36 + delta * 511]\n",
    "ax = plt.axes(projection=ccrs.PlateCarree())\n",
    "ax.coastlines(resolution='10m', color='black', linewidth=1)\n",
    "ax.set_extent(extent, crs=ccrs.PlateCarree())\n",
    "\n",
    "ax.imshow(pix, origin='upper', extent=img_extent,  transform=ccrs.PlateCarree(), cmap='jet')"
   ]
  },
  {
   "cell_type": "code",
   "execution_count": null,
   "metadata": {},
   "outputs": [],
   "source": []
  }
 ],
 "metadata": {
  "kernelspec": {
   "display_name": "Python 3",
   "language": "python",
   "name": "python3"
  },
  "language_info": {
   "codemirror_mode": {
    "name": "ipython",
    "version": 3
   },
   "file_extension": ".py",
   "mimetype": "text/x-python",
   "name": "python",
   "nbconvert_exporter": "python",
   "pygments_lexer": "ipython3",
   "version": "3.6.7"
  }
 },
 "nbformat": 4,
 "nbformat_minor": 2
}
