{
 "cells": [
  {
   "cell_type": "code",
   "execution_count": null,
   "metadata": {},
   "outputs": [],
   "source": [
    "import subprocess\n",
    "\n",
    "import gdal\n",
    "import matplotlib.pyplot as plt\n",
    "import numpy as np\n",
    "from tdm.radar import utils\n",
    "\n",
    "gdal.UseExceptions()"
   ]
  },
  {
   "cell_type": "code",
   "execution_count": null,
   "metadata": {},
   "outputs": [],
   "source": [
    "class MemRasterBuilder(object):\n",
    "\n",
    "    def __init__(self, geo_tr, wkt):\n",
    "        self.driver = gdal.GetDriverByName(\"MEM\")\n",
    "        self.geo_tr = geo_tr\n",
    "        self.wkt = wkt\n",
    "\n",
    "    def build(self, data):\n",
    "        rows, cols = data.shape\n",
    "        raster = self.driver.Create(\"\", cols, rows, 1, gdal.GDT_Float32)\n",
    "        band = raster.GetRasterBand(1)\n",
    "        band.WriteArray(data.filled())\n",
    "        band.SetNoDataValue(float(data.fill_value))\n",
    "        band.FlushCache()  # useless?\n",
    "        raster.SetGeoTransform(self.geo_tr)\n",
    "        raster.SetProjection(self.wkt)\n",
    "        return raster"
   ]
  },
  {
   "cell_type": "code",
   "execution_count": null,
   "metadata": {},
   "outputs": [],
   "source": [
    "def show_rain(rain):\n",
    "    plt.cla()\n",
    "    plt.clf()\n",
    "    plt.figure(dpi=144)\n",
    "    c = plt.contourf(rain, levels=np.arange(0, 3, 0.1))\n",
    "    cbar = plt.colorbar(c)\n",
    "    plt.gca().set_aspect(\"equal\")"
   ]
  },
  {
   "cell_type": "code",
   "execution_count": null,
   "metadata": {},
   "outputs": [],
   "source": [
    "def band_to_ma(band):\n",
    "    assert band.GetMaskFlags() == gdal.GMF_NODATA\n",
    "    m_band = band.GetMaskBand()\n",
    "    return np.ma.masked_array(\n",
    "        band.ReadAsArray(),\n",
    "        mask=(m_band.ReadAsArray() == 0),\n",
    "        fill_value=band.GetNoDataValue()\n",
    "    )"
   ]
  },
  {
   "cell_type": "code",
   "execution_count": null,
   "metadata": {},
   "outputs": [],
   "source": [
    "def read_rain(fn):\n",
    "    dataset = gdal.Open(fn)\n",
    "    return band_to_ma(dataset.GetRasterBand(1))"
   ]
  },
  {
   "cell_type": "code",
   "execution_count": null,
   "metadata": {},
   "outputs": [],
   "source": [
    "def show_rain_from_file(fn):\n",
    "    show_rain(read_rain(fn))"
   ]
  },
  {
   "cell_type": "code",
   "execution_count": null,
   "metadata": {},
   "outputs": [],
   "source": [
    "def check_tif(fn, exp_rain, geo_tr, wkt):\n",
    "    dataset = gdal.Open(fn)\n",
    "    assert dataset.RasterCount == 1\n",
    "    band = dataset.GetRasterBand(1)\n",
    "    rain = band_to_ma(band)\n",
    "    assert np.array_equal(rain.mask, exp_rain.mask)\n",
    "    assert np.ma.allclose(rain, exp_rain)\n",
    "    assert dataset.GetGeoTransform() == geo_tr\n",
    "    assert dataset.GetProjectionRef() == wkt"
   ]
  },
  {
   "cell_type": "markdown",
   "metadata": {},
   "source": [
    "### Compute rainfall and save to gtiff"
   ]
  },
  {
   "cell_type": "code",
   "execution_count": null,
   "metadata": {},
   "outputs": [],
   "source": [
    "dt_str = \"2018-05-01_23:00:04\"\n",
    "signal = utils.get_image_data(f\"data/radarsample/cag01est2400/{dt_str}.png\")\n",
    "rain = utils.estimate_rainfall(signal)"
   ]
  },
  {
   "cell_type": "code",
   "execution_count": null,
   "metadata": {},
   "outputs": [],
   "source": [
    "show_rain(rain)"
   ]
  },
  {
   "cell_type": "code",
   "execution_count": null,
   "metadata": {},
   "outputs": [],
   "source": [
    "orig_fn = \"rain.tif\"\n",
    "ga = utils.GeoAdapter(\"data/radarsample/radarfootprint.tif\")\n",
    "ga.save_as_gtiff(orig_fn, rain)\n",
    "check_tif(orig_fn, rain, (ga.oX, ga.pxlW, 0, ga.oY, 0, ga.pxlH), ga.wkt)"
   ]
  },
  {
   "cell_type": "code",
   "execution_count": null,
   "metadata": {},
   "outputs": [],
   "source": [
    "show_rain_from_file(orig_fn)"
   ]
  },
  {
   "cell_type": "markdown",
   "metadata": {},
   "source": [
    "### Warp with `gdalwarp`"
   ]
  },
  {
   "cell_type": "code",
   "execution_count": null,
   "metadata": {},
   "outputs": [],
   "source": [
    "t_srs_code = \"EPSG:4326\"\n",
    "t_srs = gdal.osr.SpatialReference()\n",
    "t_srs.ImportFromEPSG(int(t_srs_code.split(\":\")[1]))"
   ]
  },
  {
   "cell_type": "code",
   "execution_count": null,
   "metadata": {},
   "outputs": [],
   "source": [
    "warped_fn = \"warped_rain.tif\"\n",
    "subprocess.check_call([\"gdalwarp\", \"-t_srs\", t_srs_code, orig_fn, warped_fn])"
   ]
  },
  {
   "cell_type": "code",
   "execution_count": null,
   "metadata": {},
   "outputs": [],
   "source": [
    "show_rain_from_file(warped_fn)"
   ]
  },
  {
   "cell_type": "markdown",
   "metadata": {},
   "source": [
    "### Warp with the API"
   ]
  },
  {
   "cell_type": "markdown",
   "metadata": {},
   "source": [
    "#### 1. Try `gdal.AutoCreateWarpedVRT`"
   ]
  },
  {
   "cell_type": "code",
   "execution_count": null,
   "metadata": {},
   "outputs": [],
   "source": [
    "raster_builder = MemRasterBuilder((ga.oX, ga.pxlW, 0, ga.oY, 0, ga.pxlH), ga.wkt)\n",
    "raster = raster_builder.build(rain)\n",
    "resampling = gdal.GRA_NearestNeighbour\n",
    "error_thr = 0.125\n",
    "s_wkt = None  # use wkt from raster\n",
    "warped_raster = gdal.AutoCreateWarpedVRT(raster, s_wkt, t_srs.ExportToWkt(), resampling, error_thr)\n",
    "warped_rain = band_to_ma(warped_raster.GetRasterBand(1))\n",
    "show_rain(warped_rain)"
   ]
  },
  {
   "cell_type": "markdown",
   "metadata": {},
   "source": [
    "Looks the same, except for an ugly artifact on the top right"
   ]
  },
  {
   "cell_type": "code",
   "execution_count": null,
   "metadata": {},
   "outputs": [],
   "source": [
    "dataset = gdal.Open(warped_fn)\n",
    "print(dataset.RasterCount == 1)\n",
    "print(dataset.GetGeoTransform() == warped_raster.GetGeoTransform())\n",
    "print(dataset.GetProjectionRef() == warped_raster.GetProjectionRef())"
   ]
  },
  {
   "cell_type": "markdown",
   "metadata": {},
   "source": [
    "WKTs are not exactly the same, but..."
   ]
  },
  {
   "cell_type": "code",
   "execution_count": null,
   "metadata": {},
   "outputs": [],
   "source": [
    "dataset_srs = gdal.osr.SpatialReference(wkt=dataset.GetProjectionRef())\n",
    "warped_raster_srs = gdal.osr.SpatialReference(wkt=warped_raster.GetProjectionRef())\n",
    "assert warped_raster_srs.IsSame(dataset_srs)"
   ]
  },
  {
   "cell_type": "code",
   "execution_count": null,
   "metadata": {},
   "outputs": [],
   "source": [
    "exp_warped_rain = band_to_ma(dataset.GetRasterBand(1))\n",
    "print(warped_rain.shape == exp_warped_rain.shape)\n",
    "print(warped_rain.fill_value == exp_warped_rain.fill_value)\n",
    "print(np.ma.allclose(warped_rain, exp_warped_rain))\n",
    "print(np.array_equal(warped_rain.mask, exp_warped_rain.mask))"
   ]
  },
  {
   "cell_type": "code",
   "execution_count": null,
   "metadata": {},
   "outputs": [],
   "source": [
    "plt.cla()\n",
    "plt.clf()\n",
    "plt.figure(dpi=144)\n",
    "plt.contourf(warped_rain.mask != exp_warped_rain.mask)\n",
    "plt.gca().set_aspect(\"equal\")"
   ]
  },
  {
   "cell_type": "code",
   "execution_count": null,
   "metadata": {},
   "outputs": [],
   "source": [
    "(warped_rain != exp_warped_rain).sum() / warped_rain.size"
   ]
  },
  {
   "cell_type": "code",
   "execution_count": null,
   "metadata": {},
   "outputs": [],
   "source": [
    "(abs(warped_rain.filled(0) - exp_warped_rain.filled(0)) > 1e-6).sum() / warped_rain.size"
   ]
  },
  {
   "cell_type": "markdown",
   "metadata": {},
   "source": [
    "#### 2. Try `gdal.Warp`"
   ]
  },
  {
   "cell_type": "code",
   "execution_count": null,
   "metadata": {},
   "outputs": [],
   "source": [
    "warped_raster_2 = gdal.Warp(\"\", raster, format=\"MEM\", dstSRS=t_srs_code)\n",
    "warped_rain_2 = band_to_ma(warped_raster_2.GetRasterBand(1))\n",
    "show_rain(warped_rain_2)"
   ]
  },
  {
   "cell_type": "markdown",
   "metadata": {},
   "source": [
    "Again, it looks the same, but the top-right artifact is gone"
   ]
  },
  {
   "cell_type": "code",
   "execution_count": null,
   "metadata": {},
   "outputs": [],
   "source": [
    "print(warped_raster_2.RasterCount == 1)\n",
    "print(dataset.GetGeoTransform() == warped_raster_2.GetGeoTransform())\n",
    "print(dataset.GetProjectionRef() == warped_raster_2.GetProjectionRef())"
   ]
  },
  {
   "cell_type": "code",
   "execution_count": null,
   "metadata": {},
   "outputs": [],
   "source": [
    "warped_raster_2_srs = gdal.osr.SpatialReference(wkt=warped_raster_2.GetProjectionRef())\n",
    "assert warped_raster_2_srs.IsSame(dataset_srs)"
   ]
  },
  {
   "cell_type": "code",
   "execution_count": null,
   "metadata": {},
   "outputs": [],
   "source": [
    "print(warped_rain_2.shape == exp_warped_rain.shape)\n",
    "print(warped_rain_2.fill_value == exp_warped_rain.fill_value)\n",
    "print(np.ma.allclose(warped_rain_2, exp_warped_rain))\n",
    "print(np.array_equal(warped_rain_2.mask, exp_warped_rain.mask))"
   ]
  },
  {
   "cell_type": "code",
   "execution_count": null,
   "metadata": {},
   "outputs": [],
   "source": []
  }
 ],
 "metadata": {
  "kernelspec": {
   "display_name": "Python 3",
   "language": "python",
   "name": "python3"
  },
  "language_info": {
   "codemirror_mode": {
    "name": "ipython",
    "version": 3
   },
   "file_extension": ".py",
   "mimetype": "text/x-python",
   "name": "python",
   "nbconvert_exporter": "python",
   "pygments_lexer": "ipython3",
   "version": "3.6.6"
  }
 },
 "nbformat": 4,
 "nbformat_minor": 2
}
