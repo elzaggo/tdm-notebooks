{
 "cells": [
  {
   "cell_type": "markdown",
   "metadata": {},
   "source": [
    "# Estimating rainfall from radar data"
   ]
  },
  {
   "cell_type": "markdown",
   "metadata": {},
   "source": [
    "## Radar data to rain intensity\n",
    "\n",
    "The data we have available is a collection of 1024x1024 PNG images where the data at each pixel is related to the reflected power coming from the location represented by the pixel back to the radar. The actual position of each pixel can be inferred by using 'radarfootprint.tif' a GeoTiff image centered on the radar location.\n",
    "The PNG image contains two bands, band0 with the actual signal and band1 with a mask array that is 0 where the signal should be zero and 255 everywhere else. The discretized signal, $D$, is bound to the related effective reflected power $P'$\n",
    "\n",
    "$$\n",
    "D= (100 + P') * 2.55\n",
    "$$\n",
    "\n",
    "Where\n",
    "\n",
    "$$\n",
    "P' = P +  20 \\log(r)\n",
    "$$\n",
    "\n",
    "$P$ is the actual reflected at the radar and $P'$ includes a distance correction term.\n",
    "\n",
    "On the other hand, the reflected power $P$ is connected to $Z$, the reflectivity, a quantity that can be measured by the radar, and it is defined as \n",
    "\n",
    "$$\n",
    "Z = \\sum_d N_d  d^6 \\delta d\n",
    "$$\n",
    "\n",
    "Where $N_d\\delta d$ is the number of drops per cubic meter of diameter between $d$ and $d + \\delta d$ mm.\n",
    "The relation between $Z$ and $P$, assuming that the reflection happens at $r$ km away is given by\n",
    "\n",
    "$$\n",
    "10 \\log(Z) = P + 91.4 + 20 \\log(r)\n",
    "$$\n",
    "\n",
    "Where all the specific constants that characterize this specific radar have been subsumed in global constants.\n",
    "Moreover, the (Marshall-Palmer distribution of raindrops) [ https://doi.org/10.1016/0960-1686(93)90066-8 , see also http://www.sjsu.edu/faculty/watkins/raindrop.htm ] relates $Z$ to the related rainfall $R$ by\n",
    "\n",
    "$$\n",
    "Z = a R^b\n",
    "$$\n",
    "\n",
    "where, in our case,  $a=300$, $b=1.5$.\n",
    "\n",
    "As a result, we can now invert the equations above to obtain a formula that relates the reflectivity to $D$.\n",
    "\n",
    "$$\n",
    "Z = 10^\\frac{D/2.55 - 8.6}{10}\n",
    "$$"
   ]
  },
  {
   "cell_type": "code",
   "execution_count": null,
   "metadata": {},
   "outputs": [],
   "source": [
    "from tdm.radar import utils\n",
    "from datetime import datetime, timedelta\n",
    "import numpy as np\n",
    "import imageio\n",
    "%matplotlib inline\n",
    "import matplotlib.pyplot as plt"
   ]
  },
  {
   "cell_type": "code",
   "execution_count": null,
   "metadata": {},
   "outputs": [],
   "source": [
    "def get_image_data(path):\n",
    "    im = imageio.imread(path)\n",
    "    return im[:,:,0], im[:,:,3] == 255 # NOTE the mask is on channel 3!!!\n",
    "\n",
    "def aggregate_rainfall(image_tuples):\n",
    "    precs = np.dstack([utils.estimate_rainfall(*get_image_data(_[1])) for _ in image_tuples])\n",
    "    return np.mean(precs, axis=2)"
   ]
  },
  {
   "cell_type": "code",
   "execution_count": null,
   "metadata": {},
   "outputs": [],
   "source": [
    "root = './data/radarsample/cag01est2400'\n",
    "template = './data/radarsample/radarfootprint.tif'\n",
    "sample_image_dt = '2018-05-01_23:01:05'\n",
    "after = datetime(2018, 5, 1, 23, 0, 0)\n",
    "before = datetime(2018, 5, 1, 23, 40, 0)\n",
    "delta = timedelta(minutes=10)"
   ]
  },
  {
   "cell_type": "code",
   "execution_count": null,
   "metadata": {},
   "outputs": [],
   "source": [
    "signal, mask = get_image_data(\"data/radarsample/cag01est2400/%s.png\" % sample_image_dt)"
   ]
  },
  {
   "cell_type": "code",
   "execution_count": null,
   "metadata": {},
   "outputs": [],
   "source": [
    "plt.figure(dpi=144)\n",
    "plt.contourf(signal, 10)\n",
    "plt.gca().set_aspect(\"equal\")"
   ]
  },
  {
   "cell_type": "code",
   "execution_count": null,
   "metadata": {},
   "outputs": [],
   "source": [
    "levels = np.arange(0, 3, 0.1)"
   ]
  },
  {
   "cell_type": "code",
   "execution_count": null,
   "metadata": {},
   "outputs": [],
   "source": [
    "rain = utils.estimate_rainfall(signal, mask)"
   ]
  },
  {
   "cell_type": "code",
   "execution_count": null,
   "metadata": {},
   "outputs": [],
   "source": [
    "plt.figure(dpi=144)\n",
    "c = plt.contourf(rain, levels=levels) # mm/min ??\n",
    "cbar = plt.colorbar(c)\n",
    "cbar.ax.set_ylabel('rainfall (mm/min)')\n",
    "plt.gca().set_aspect(\"equal\")"
   ]
  },
  {
   "cell_type": "code",
   "execution_count": null,
   "metadata": {},
   "outputs": [],
   "source": [
    "fname = \"%s.3003.tif\" % sample_image_dt\n",
    "metadata = {'TIFFTAG_DATETIME': sample_image_dt}\n",
    "ga = utils.GeoAdapter(template)\n",
    "ga.save_as_gtiff(fname, rain, metadata)"
   ]
  },
  {
   "cell_type": "code",
   "execution_count": null,
   "metadata": {},
   "outputs": [],
   "source": [
    "image_groups = utils.get_grouped_raw_radar_images(root, delta, after, before)"
   ]
  },
  {
   "cell_type": "code",
   "execution_count": null,
   "metadata": {},
   "outputs": [],
   "source": [
    "for g, ims in image_groups:\n",
    "    rain = aggregate_rainfall(ims)\n",
    "    plt.figure(dpi=144)\n",
    "    c = plt.contourf(rain, levels=levels)\n",
    "    plt.title(\"%d min from %s\" % (delta.total_seconds()/60, g))\n",
    "    cbar = plt.colorbar(c)\n",
    "    cbar.ax.set_ylabel('rainfall (mm/min)')\n",
    "    plt.gca().set_aspect(\"equal\")"
   ]
  },
  {
   "cell_type": "code",
   "execution_count": null,
   "metadata": {},
   "outputs": [],
   "source": []
  }
 ],
 "metadata": {
  "kernelspec": {
   "display_name": "Python 3",
   "language": "python",
   "name": "python3"
  },
  "language_info": {
   "codemirror_mode": {
    "name": "ipython",
    "version": 3
   },
   "file_extension": ".py",
   "mimetype": "text/x-python",
   "name": "python",
   "nbconvert_exporter": "python",
   "pygments_lexer": "ipython3",
   "version": "3.7.0"
  }
 },
 "nbformat": 4,
 "nbformat_minor": 2
}
