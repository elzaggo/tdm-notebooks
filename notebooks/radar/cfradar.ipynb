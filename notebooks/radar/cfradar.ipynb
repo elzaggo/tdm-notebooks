{
 "cells": [
  {
   "cell_type": "markdown",
   "metadata": {},
   "source": [
    "# Dumping radar data in a CF compliant format\n",
    "\n",
    "This notebook describes how to create a netCDF4 file with the output of our radar data following the conventions described in http://cfconventions.org/documents.html V1.7.\n",
    "\n",
    "\n",
    "For future reference, http://wiki.esipfed.org/index.php/NetCDF-CF_File_Examples_for_Satellite_Swath_Data\n",
    "is an example on how to deal with satellite data."
   ]
  },
  {
   "cell_type": "code",
   "execution_count": null,
   "metadata": {},
   "outputs": [],
   "source": [
    "from netCDF4 import Dataset\n",
    "from tdm.radar import utils\n",
    "from datetime import datetime\n",
    "import numpy as np\n",
    "import os\n",
    "import time"
   ]
  },
  {
   "cell_type": "code",
   "execution_count": null,
   "metadata": {},
   "outputs": [],
   "source": [
    "def setncattr(o, attrs):\n",
    "    for k, v in attrs.items():\n",
    "        o.setncattr(k, v)\n",
    "\n",
    "def showattrs(o):\n",
    "    for k in o.ncattrs():\n",
    "        print(k, o.getncattr(k))"
   ]
  },
  {
   "cell_type": "code",
   "execution_count": null,
   "metadata": {},
   "outputs": [],
   "source": [
    "root = './data/radarsample/cag01est2400/'\n",
    "template = './data/radarsample/radarfootprint.tif'"
   ]
  },
  {
   "cell_type": "code",
   "execution_count": null,
   "metadata": {},
   "outputs": [],
   "source": [
    "ga = utils.GeoAdapter(template)"
   ]
  },
  {
   "cell_type": "code",
   "execution_count": null,
   "metadata": {},
   "outputs": [],
   "source": [
    "xpos, ypos = ga.xpos(), ga.ypos()"
   ]
  },
  {
   "cell_type": "code",
   "execution_count": null,
   "metadata": {},
   "outputs": [],
   "source": [
    "radar_images = utils.get_images(root)\n",
    "first_tstamp = radar_images[0][0]\n",
    "n_images = len(radar_images)"
   ]
  },
  {
   "cell_type": "code",
   "execution_count": null,
   "metadata": {
    "scrolled": true
   },
   "outputs": [],
   "source": [
    "try:\n",
    "    os.unlink('radar.nc')\n",
    "except FileNotFoundError:\n",
    "    pass\n",
    "r = Dataset('radar.nc', 'w')"
   ]
  },
  {
   "cell_type": "code",
   "execution_count": null,
   "metadata": {},
   "outputs": [],
   "source": [
    "global_attributes = {\n",
    "    'Conventions': 'CF-1.7',\n",
    "    'title': 'Rainfall Radar acquisitions',\n",
    "    'institution': 'AEN inc',\n",
    "    'source': 'Radar XXX',\n",
    "    'references': 'http://www.tdm-project.it/en/XXX/radar',\n",
    "    'history': 'Conversion from raw data using XXXX'\n",
    "}\n",
    "setncattr(r, global_attributes)"
   ]
  },
  {
   "cell_type": "code",
   "execution_count": null,
   "metadata": {},
   "outputs": [],
   "source": [
    "showattrs(r)"
   ]
  },
  {
   "cell_type": "code",
   "execution_count": null,
   "metadata": {},
   "outputs": [],
   "source": [
    "# See 4.4 time coordinate\n",
    "timed = r.createDimension('time', n_images)\n",
    "xd = r.createDimension('x', ga.cols)\n",
    "yd = r.createDimension('y', ga.rows)\n",
    "\n",
    "# See section 5.1 and https://code.mpimet.mpg.de/boards/1/topics/5765\n",
    "\n",
    "times = r.createVariable('time', 'f4', (timed.name,))\n",
    "setncattr(times, {'long_name': 'time',\n",
    "                  'units': 'minutes since %s UTC' % first_tstamp})\n",
    "\n",
    "x = r.createVariable('x', 'f4', (xd.name,))\n",
    "setncattr(x, {'long_name': 'x coordinate of projection',\n",
    "              'standard_name': 'projection_x_coordinate',\n",
    "              'units': 'km'})\n",
    "\n",
    "y = r.createVariable('y', 'f4', (yd.name,))\n",
    "setncattr(y, {'long_name': 'y coordinate of projection',\n",
    "              'standard_name': 'projection_y_coordinate',\n",
    "              'units': 'km'})\n",
    "\n",
    "lat = r.createVariable('lat', 'f4', (xd.name, yd.name))\n",
    "setncattr(lat, {'long_name': 'latitude coordinate',\n",
    "                'standard_name': 'latitude',\n",
    "                'units': 'degrees_north'})\n",
    "\n",
    "lon = r.createVariable('lon', 'f4', (xd.name, yd.name))\n",
    "setncattr(lon, {'long_name': 'longitude coordinate',\n",
    "                'standard_name': 'longitude',\n",
    "                'units': 'degrees_east'})"
   ]
  },
  {
   "cell_type": "code",
   "execution_count": null,
   "metadata": {},
   "outputs": [],
   "source": [
    "# See section 5.6.1\n",
    "# FIXME this should be, in principle, derived from the wkt\n",
    "crs = r.createVariable('crs', 'i4') # a dummy scalar used as anchor for the crs\n",
    "setncattr(crs, {\n",
    " 'grid_mapping_name': 'transverse_mercator',\n",
    " 'longitude_of_central_meridian': 9.0,\n",
    " 'latitude_of_projection_origin': 0.0,\n",
    " 'false_easting': 1500000.0,\n",
    " 'false_northing': 0.0,\n",
    " 'scale_factor_at_central_meridian': 0.9996,\n",
    " 'semi_major_axis': 6378388.0,\n",
    " 'inverse_flattening': 297,\n",
    " 'projected_coordinate_system_name': 'EPSG:3003 Monte Mario / Italy zone 1',\n",
    " 'geographic_coordinate_system_name': 'Monte Mario',\n",
    " 'horizontal_datum_name':  'Monte_Mario',\n",
    " 'reference_ellipsoid_name': 'International 1924',\n",
    " 'prime_meridian_name': \"Greenwich\",\n",
    " 'towgs84': [-104.1,-49.1,-9.9,0.971,-2.917,0.714,-11.68],\n",
    " 'crs_wkt': ga.wkt\n",
    "})"
   ]
  },
  {
   "cell_type": "code",
   "execution_count": null,
   "metadata": {},
   "outputs": [],
   "source": [
    "rf_rate = r.createVariable('rainfall_rate', 'f4', \n",
    "                           (timed.name, xd.name, yd.name), zlib=True, \n",
    "                           chunksizes=(60, ga.cols, ga.rows),\n",
    "                           fill_value=utils.RAINFALL_FILL_VALUE)"
   ]
  },
  {
   "cell_type": "code",
   "execution_count": null,
   "metadata": {},
   "outputs": [],
   "source": [
    "setncattr(rf_rate, {'long_name': 'estimated rainfall rate',\n",
    "                    'standard_name': 'rainfall_rate',\n",
    "                    'coordinates': 'lat lon',\n",
    "                    'grid_mapping': 'crs',\n",
    "                    'units': 'mm/hour'})"
   ]
  },
  {
   "cell_type": "code",
   "execution_count": null,
   "metadata": {},
   "outputs": [],
   "source": [
    "rf_rate.get_var_chunk_cache()"
   ]
  },
  {
   "cell_type": "markdown",
   "metadata": {},
   "source": [
    "```\n",
    "set_var_chunk_cache(self,size=None,nelems=None,preemption=None)\n",
    "\n",
    "ncid\n",
    "    NetCDF ID, from a previous call to nc_open or nc_create.\n",
    "varid\n",
    "    Variable ID.\n",
    "size\n",
    "    The total size of the raw data chunk cache, in bytes. This should be big enough to hold multiple chunks of data.\n",
    "nelems\n",
    "    The number of chunk slots in the raw data chunk cache hash table. This should be a prime number larger than the number of chunks that will be in the cache.\n",
    "preemption\n",
    "    The preemtion value must be between 0 and 1 inclusive and indicates how much chunks that have been fully read are favored for preemption. A value of zero means fully read chunks are treated no differently than other chunks (the preemption is strictly LRU) while a value of one means fully read chunks are always preempted before other chunks.\n",
    "```    \n",
    "**So the chunk cache is too small**"
   ]
  },
  {
   "cell_type": "code",
   "execution_count": null,
   "metadata": {},
   "outputs": [],
   "source": [
    "rf_rate.set_var_chunk_cache(5 * 60 * 1024 * 1024 * 4, 5, 1.0)"
   ]
  },
  {
   "cell_type": "code",
   "execution_count": null,
   "metadata": {},
   "outputs": [],
   "source": [
    "x[:] = xpos\n",
    "y[:] = ypos\n",
    "lat[:], lon[:] = utils.get_lat_lon(ga.sr, xpos, ypos)"
   ]
  },
  {
   "cell_type": "code",
   "execution_count": null,
   "metadata": {},
   "outputs": [],
   "source": [
    "start = time.time()\n",
    "times[:] = [(_[0] - first_tstamp).total_seconds() / 60 for _ in radar_images]\n",
    "for i, (ts, fname) in enumerate(radar_images):\n",
    "    signal = utils.get_image_data(fname)\n",
    "    rf_rate[i, :, :] = utils.estimate_rainfall(signal)\n",
    "r.close()\n",
    "print(time.time() - start)"
   ]
  },
  {
   "cell_type": "markdown",
   "metadata": {},
   "source": [
    "on my laptop, no compression 8.74, with compression 11.90"
   ]
  },
  {
   "cell_type": "code",
   "execution_count": null,
   "metadata": {},
   "outputs": [],
   "source": [
    "%matplotlib inline\n",
    "import matplotlib.pyplot as plt\n",
    "import numpy as np"
   ]
  },
  {
   "cell_type": "code",
   "execution_count": null,
   "metadata": {},
   "outputs": [],
   "source": [
    "r = Dataset('radar.nc', 'r')"
   ]
  },
  {
   "cell_type": "code",
   "execution_count": null,
   "metadata": {},
   "outputs": [],
   "source": [
    "print(sorted(r.variables.keys()))"
   ]
  },
  {
   "cell_type": "code",
   "execution_count": null,
   "metadata": {},
   "outputs": [],
   "source": [
    "r.variables[\"time\"]"
   ]
  },
  {
   "cell_type": "code",
   "execution_count": null,
   "metadata": {},
   "outputs": [],
   "source": [
    "r.variables[\"time\"][:5].data"
   ]
  },
  {
   "cell_type": "code",
   "execution_count": null,
   "metadata": {},
   "outputs": [],
   "source": [
    "r.variables[\"rainfall_rate\"]"
   ]
  },
  {
   "cell_type": "code",
   "execution_count": null,
   "metadata": {},
   "outputs": [],
   "source": [
    "rainfall = r.variables[\"rainfall_rate\"][0].data\n",
    "x, y = r.variables[\"x\"][:].data, r.variables[\"y\"][:].data"
   ]
  },
  {
   "cell_type": "code",
   "execution_count": null,
   "metadata": {
    "scrolled": false
   },
   "outputs": [],
   "source": [
    "plt.figure(dpi=144)\n",
    "c = plt.contourf(rainfall, levels=np.arange(0, 3, 0.1))\n",
    "cbar = plt.colorbar(c)\n",
    "cbar.ax.set_ylabel('rainfall (mm/h)')\n",
    "ax = plt.gca()\n",
    "ax.set_aspect(\"equal\")\n",
    "ax.set_xticks([0, rainfall.shape[0]])\n",
    "ax.set_xticklabels([\"%d\" % x[0], \"%d\" % x[-1]])\n",
    "ax.set_yticks([0, rainfall.shape[1]])\n",
    "ax.set_yticklabels([\"%d\" % y[-1], \"%d\" % y[0]])"
   ]
  },
  {
   "cell_type": "code",
   "execution_count": null,
   "metadata": {},
   "outputs": [],
   "source": [
    "r.close()"
   ]
  }
 ],
 "metadata": {
  "kernelspec": {
   "display_name": "Python 3",
   "language": "python",
   "name": "python3"
  },
  "language_info": {
   "codemirror_mode": {
    "name": "ipython",
    "version": 3
   },
   "file_extension": ".py",
   "mimetype": "text/x-python",
   "name": "python",
   "nbconvert_exporter": "python",
   "pygments_lexer": "ipython3",
   "version": "3.7.1"
  }
 },
 "nbformat": 4,
 "nbformat_minor": 2
}
