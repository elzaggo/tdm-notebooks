{
 "cells": [
  {
   "cell_type": "markdown",
   "metadata": {},
   "source": [
    "# Dumping radar data in a CF compliant format\n",
    "\n",
    "This notebook describes how to create a netCDF file with the output of out radar data following the conventions described in http://cfconventions.org/documents.html V1.7.\n",
    "\n",
    "\n",
    "For future reference, http://wiki.esipfed.org/index.php/NetCDF-CF_File_Examples_for_Satellite_Swath_Data\n",
    "is an example on how to deal with satellite data."
   ]
  },
  {
   "cell_type": "code",
   "execution_count": null,
   "metadata": {},
   "outputs": [],
   "source": [
    "from netCDF4 import Dataset\n",
    "from tdm.radar import utils\n",
    "from datetime import datetime, timedelta\n",
    "import numpy as np\n",
    "import imageio\n",
    "import os"
   ]
  },
  {
   "cell_type": "code",
   "execution_count": null,
   "metadata": {},
   "outputs": [],
   "source": [
    "def get_image_data(path):\n",
    "    im = imageio.imread(path)\n",
    "    return im[:,:,0], im[:,:,3] == 255 # NOTE the mask is on channel 3!!!\n",
    "\n",
    "def setattr(o, attrs):\n",
    "    for k, v in attrs.items():\n",
    "        o.setncattr(k, v)\n",
    "\n",
    "def showattrs(o):\n",
    "    for k in o.ncattrs():\n",
    "        print(k, o.getncattr(k))"
   ]
  },
  {
   "cell_type": "code",
   "execution_count": null,
   "metadata": {},
   "outputs": [],
   "source": [
    "root = './data/radar/cag01est2400/'\n",
    "template = './data/radarsample/radarfootprint.tif'\n",
    "sample_image_dt = '2018-05-01_23:01:05'\n",
    "after = datetime(2018, 5, 1, 23, 0, 0)\n",
    "before = datetime(2018, 5, 2, 16, 0, 0)\n",
    "delta = timedelta(hours=1)"
   ]
  },
  {
   "cell_type": "code",
   "execution_count": null,
   "metadata": {},
   "outputs": [],
   "source": [
    "oX, oY, pxlW, pxlH, cols, rows = utils.get_grid(template, unit='km')"
   ]
  },
  {
   "cell_type": "code",
   "execution_count": null,
   "metadata": {},
   "outputs": [],
   "source": [
    "xpos = oX + pxlW * np.arange(0, cols)\n",
    "ypos = oY + pxlH * np.arange(0, rows)"
   ]
  },
  {
   "cell_type": "code",
   "execution_count": null,
   "metadata": {},
   "outputs": [],
   "source": [
    "radar_images = list(utils.get_raw_radar_images(root, after, before))\n",
    "first_tstamp = radar_images[0][0]"
   ]
  },
  {
   "cell_type": "code",
   "execution_count": null,
   "metadata": {
    "scrolled": true
   },
   "outputs": [],
   "source": [
    "os.unlink('radar.nc')\n",
    "r = Dataset('radar.nc', 'w')"
   ]
  },
  {
   "cell_type": "code",
   "execution_count": null,
   "metadata": {},
   "outputs": [],
   "source": [
    "global_attributes = {\n",
    "    'Conventions': 'CF-1.7',\n",
    "    'title': 'Rainfall Radar acquisitions',\n",
    "    'institution': 'AEN inc',\n",
    "    'source': 'Radar XXX',\n",
    "    'references': 'http://www.tdm-project.it/en/XXX/radar',\n",
    "    'history': 'Conversion from raw data using XXXX'\n",
    "}\n",
    "setattr(r, global_attributes)"
   ]
  },
  {
   "cell_type": "code",
   "execution_count": null,
   "metadata": {},
   "outputs": [],
   "source": [
    "showattrs(r)"
   ]
  },
  {
   "cell_type": "code",
   "execution_count": null,
   "metadata": {},
   "outputs": [],
   "source": [
    "# See 4.4 time coordinate\n",
    "timed = r.createDimension('time', None)\n",
    "xd = r.createDimension('x', cols)\n",
    "yd = r.createDimension('y', rows)\n",
    "\n",
    "# See section 5.1 and https://code.mpimet.mpg.de/boards/1/topics/5765\n",
    "\n",
    "times = r.createVariable('time', 'f4', (timed.name,))\n",
    "setattr(times, {'long_name': 'time', \n",
    "               'units': 'minutes since %s UTC' % first_tstamp})\n",
    "\n",
    "x = r.createVariable('x', 'f4', (xd.name,))\n",
    "setattr(x, {'long_name': 'x coordinate of projection',\n",
    "            'standard_name': 'projection_x_coordinate',\n",
    "            'units': 'km'})\n",
    "\n",
    "y = r.createVariable('y', 'f4', (yd.name,))\n",
    "setattr(y, {'long_name': 'y coordinate of projection',\n",
    "            'standard_name': 'projection_y_coordinate',\n",
    "            'units': 'km'})\n",
    "\n",
    "lat = r.createVariable('lat', 'f4', (xd.name, yd.name))\n",
    "setattr(lat, {'long_name': 'latitude coordinate',\n",
    "              'standard_name': 'latitude',\n",
    "              'units': 'degrees_north'})\n",
    "\n",
    "lon = r.createVariable('lon', 'f4', (xd.name, yd.name))\n",
    "setattr(lat, {'long_name': 'longitude coordinate',\n",
    "              'standard_name': 'longitude',\n",
    "              'units': 'degrees_east'})"
   ]
  },
  {
   "cell_type": "code",
   "execution_count": null,
   "metadata": {},
   "outputs": [],
   "source": [
    "# See section 5.6.1\n",
    "crs = r.createVariable('crs', 'i4') # a dummy scalar used as anchor for the crs\n",
    "setattr(crs, {\n",
    " 'grid_mapping_name': 'transverse_mercator',\n",
    " 'longitude_of_central_meridian': 9.0,\n",
    " 'latitude_of_projection_origin': 0.0,\n",
    " 'false_easting': 1500000.0,\n",
    " 'false_northing': 0.0,\n",
    " 'scale_factor_at_central_meridian': 0.9996,\n",
    " 'semi_major_axis': 6378388.0,\n",
    " 'inverse_flattening': 297,\n",
    " 'projected_coordinate_system_name': 'EPSG:3003 Monte Mario / Italy zone 1',\n",
    " 'geographic_coordinate_system_name': 'Monte Mario',\n",
    " 'horizontal_datum_name':  'Monte_Mario',\n",
    " 'reference_ellipsoid_name': 'International 1924',\n",
    " 'prime_meridian_name': \"Greenwich\",\n",
    " 'towgs84': [-104.1,-49.1,-9.9,0.971,-2.917,0.714,-11.68],\n",
    " 'crs_wkt': '''\n",
    "PROJCS[\"Monte Mario / Italy zone 1\",\n",
    "    GEOGCS[\"Monte Mario\",\n",
    "        DATUM[\"Monte_Mario\",\n",
    "            SPHEROID[\"International 1924\",6378388,297,\n",
    "                AUTHORITY[\"EPSG\",\"7022\"]],\n",
    "            AUTHORITY[\"EPSG\",\"6265\"]],\n",
    "        PRIMEM[\"Greenwich\",0,\n",
    "            AUTHORITY[\"EPSG\",\"8901\"]],\n",
    "        UNIT[\"degree\",0.01745329251994328,\n",
    "            AUTHORITY[\"EPSG\",\"9122\"]],\n",
    "        AUTHORITY[\"EPSG\",\"4265\"]],\n",
    "    UNIT[\"metre\",1,\n",
    "        AUTHORITY[\"EPSG\",\"9001\"]],\n",
    "    PROJECTION[\"Transverse_Mercator\"],\n",
    "    PARAMETER[\"latitude_of_origin\",0],\n",
    "    PARAMETER[\"central_meridian\",9],\n",
    "    PARAMETER[\"scale_factor\",0.9996],\n",
    "    PARAMETER[\"false_easting\",1500000],\n",
    "    PARAMETER[\"false_northing\",0],\n",
    "    AUTHORITY[\"EPSG\",\"3003\"],\n",
    "    AXIS[\"X\",EAST],\n",
    "    AXIS[\"Y\",NORTH]]\n",
    "'''})\n"
   ]
  },
  {
   "cell_type": "code",
   "execution_count": null,
   "metadata": {},
   "outputs": [],
   "source": [
    "rf_rate = r.createVariable('rainfall_rate', 'f4', \n",
    "                           (timed.name, xd.name, yd.name), \n",
    "                           fill_value=1.0e+20)"
   ]
  },
  {
   "cell_type": "code",
   "execution_count": null,
   "metadata": {},
   "outputs": [],
   "source": [
    "setattr(rf_rate, {'long_name': 'estimated rainfall rate',\n",
    "                  'standard_name': 'rainfall_rate',\n",
    "                  'coordinates': 'lat lon',\n",
    "                  'grid_mapping': 'crs',\n",
    "                  'units': 'mm/hour'})"
   ]
  },
  {
   "cell_type": "code",
   "execution_count": null,
   "metadata": {},
   "outputs": [],
   "source": [
    "x[:] = xpos\n",
    "y[:] = ypos"
   ]
  },
  {
   "cell_type": "code",
   "execution_count": null,
   "metadata": {},
   "outputs": [],
   "source": [
    "fill_value = rf_rate._FillValue\n",
    "deltas = []\n",
    "for ts, fname in radar_images[:10]:\n",
    "    deltas.append(ts - first_tstamp)\n",
    "    signal, mask = get_image_data(fname)\n",
    "    rainfall = utils.estimate_rainfall(signal, mask)\n",
    "    rainfall[mask == 0] = fill_value\n",
    "    rf_rate[len(times), :, :] = rainfall"
   ]
  },
  {
   "cell_type": "code",
   "execution_count": null,
   "metadata": {},
   "outputs": [],
   "source": [
    "times[:] = [_.seconds/60 for _ in deltas]"
   ]
  },
  {
   "cell_type": "code",
   "execution_count": null,
   "metadata": {},
   "outputs": [],
   "source": [
    "r.close()"
   ]
  },
  {
   "cell_type": "code",
   "execution_count": null,
   "metadata": {},
   "outputs": [],
   "source": []
  }
 ],
 "metadata": {
  "kernelspec": {
   "display_name": "Python 3",
   "language": "python",
   "name": "python3"
  },
  "language_info": {
   "codemirror_mode": {
    "name": "ipython",
    "version": 3
   },
   "file_extension": ".py",
   "mimetype": "text/x-python",
   "name": "python",
   "nbconvert_exporter": "python",
   "pygments_lexer": "ipython3",
   "version": "3.7.0"
  }
 },
 "nbformat": 4,
 "nbformat_minor": 2
}
