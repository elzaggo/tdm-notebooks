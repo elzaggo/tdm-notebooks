{
 "cells": [
  {
   "cell_type": "code",
   "execution_count": null,
   "metadata": {},
   "outputs": [],
   "source": [
    "import datetime\n",
    "\n",
    "from IPython.display import HTML\n",
    "import matplotlib.pyplot as plt\n",
    "import matplotlib.animation\n",
    "import numpy as np\n",
    "\n",
    "from tdm.radar import utils\n",
    "strftime = datetime.datetime.strftime"
   ]
  },
  {
   "cell_type": "markdown",
   "metadata": {},
   "source": [
    "Set `max_img` to `None` to get the full animation."
   ]
  },
  {
   "cell_type": "code",
   "execution_count": null,
   "metadata": {},
   "outputs": [],
   "source": [
    "img_dir = './data/radarsample/cag01est2400'\n",
    "max_img = 5\n",
    "dts, rainfall = [], []\n",
    "pairs = utils.get_images(img_dir)\n",
    "if max_img:\n",
    "    pairs = pairs[:max_img]\n",
    "for dt, path in pairs:\n",
    "    dts.append(strftime(dt, utils.FMT))\n",
    "    signal = utils.get_image_data(path)\n",
    "    rainfall.append(utils.estimate_rainfall(signal))"
   ]
  },
  {
   "cell_type": "code",
   "execution_count": null,
   "metadata": {},
   "outputs": [],
   "source": [
    "levels = np.arange(0, 3, 0.1)\n",
    "fig = plt.figure(dpi=144)\n",
    "c = plt.contourf(rainfall[0], levels=levels)\n",
    "plt.colorbar(c)\n",
    "plt.gca().set_aspect(\"equal\")\n",
    "\n",
    "def animate(i):\n",
    "    plt.clf()\n",
    "    plt.contourf(rainfall[i], levels=levels)\n",
    "    plt.title('t = %d (%s)' % (i, dts[i]))\n",
    "    plt.gca().set_aspect(\"equal\")\n",
    "\n",
    "nt = len(rainfall)\n",
    "ani = matplotlib.animation.FuncAnimation(fig, animate, frames=nt)\n",
    "HTML(ani.to_jshtml())"
   ]
  }
 ],
 "metadata": {
  "kernelspec": {
   "display_name": "Python 3",
   "language": "python",
   "name": "python3"
  },
  "language_info": {
   "codemirror_mode": {
    "name": "ipython",
    "version": 3
   },
   "file_extension": ".py",
   "mimetype": "text/x-python",
   "name": "python",
   "nbconvert_exporter": "python",
   "pygments_lexer": "ipython3",
   "version": "3.6.6"
  }
 },
 "nbformat": 4,
 "nbformat_minor": 2
}
