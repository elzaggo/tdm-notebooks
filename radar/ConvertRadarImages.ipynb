{
 "cells": [
  {
   "cell_type": "markdown",
   "metadata": {},
   "source": [
    "# Estimating rainfall from radar data"
   ]
  },
  {
   "cell_type": "markdown",
   "metadata": {},
   "source": [
    "## Radar data to rain intensity\n",
    "\n",
    "The data we have available is a collection of 1024x1024 PNG images where the data at each pixel is related to the reflected power coming from the location represented by the pixel back to the radar. The actual position of each pixel can be inferred by using 'radarfootprint.tif' a GeoTiff image centered on the radar location.\n",
    "The PNG image contains two bands, band0 with the actual signal and band1 with a mask array that is 0 where the signal should be zero and 255 everywhere else. The discretized signal, $D$, is bound to the related effective reflected power $P'$\n",
    "\n",
    "$$\n",
    "D= (100 + P') * 2.55\n",
    "$$\n",
    "\n",
    "Where\n",
    "\n",
    "$$\n",
    "P' = P +  20 \\log(r)\n",
    "$$\n",
    "\n",
    "$P$ is the actual reflected at the radar and $P'$ includes a distance correction term.\n",
    "\n",
    "On the other hand, the reflected power $P$ is connected to $Z$, the reflectivity, a quantity that can be measured by the radar, and it is defined as \n",
    "\n",
    "$$\n",
    "Z = \\sum_d N_d  d^6 \\delta d\n",
    "$$\n",
    "\n",
    "Where $N_d\\delta d$ is the number of drops per cubic meter of diamater between $d$ and $d + \\delta d$ mm.\n",
    "The relation between $Z$ and $P$, assuming that the reflection happens at $r$ km away is given by\n",
    "\n",
    "$$\n",
    "10 \\log(Z) = P + 91.4 + 20 \\log(r)\n",
    "$$\n",
    "\n",
    "Where all the specific constants that characterize this specific radar have been subsumed in global constants.\n",
    "Moreover, the (Marshall-Palmer distribution of raindrops)[https://doi.org/10.1016/0960-1686(93)90066-8] relates $Z$ to the related rainfall $R$ by\n",
    "\n",
    "$$\n",
    "Z = a R^b\n",
    "$$\n",
    "\n",
    "where, in our case,  $a=300$, $b=1.5$.\n",
    "\n",
    "As a result, we can now invert the equations above to obtain a formula that relates the reflectivity to $D$.\n",
    "\n",
    "$$\n",
    "Z = 10^\\frac{D/2.55 - 8.6}{10}\n",
    "$$"
   ]
  },
  {
   "cell_type": "code",
   "execution_count": 20,
   "metadata": {},
   "outputs": [],
   "source": [
    "# imports and initializations\n",
    "%matplotlib inline\n",
    "import matplotlib.pyplot as plt\n",
    "import gdal, osr\n",
    "import numpy as np\n",
    "import imageio\n",
    "import glob"
   ]
  },
  {
   "cell_type": "code",
   "execution_count": 57,
   "metadata": {},
   "outputs": [],
   "source": [
    "class GeoAdapter(object):\n",
    "    def __init__(self, footprint):\n",
    "        self.footprint = footprint\n",
    "    def get_grid(self, unit='km', send_raster=False):\n",
    "        raster = gdal.Open(self.footprint)\n",
    "        gt = raster.GetGeoTransform()\n",
    "        oX, oY, pxlW, pxlH = gt[0], gt[3], gt[1], gt[5]\n",
    "        cols, rows = raster.RasterXSize, raster.RasterYSize\n",
    "        factor = {'km': 0.001, 'm': 1.0}[unit]\n",
    "        if send_raster:\n",
    "            return oX, oY, factor * pxlW, factor * pxlH, cols, rows, raster\n",
    "        else:\n",
    "            return oX, oY, factor * pxlW, factor * pxlH, cols, rows\n",
    "    def save_as_raster(self, data, fname):\n",
    "        oX, oY, pxlW, pxlH, cols, rows, oraster = self.get_grid(unit='m', send_raster=True)\n",
    "        driver = gdal.GetDriverByName('GTiff')\n",
    "        raster = driver.Create(fname, cols, rows, 1, gdal.GDT_Float32)\n",
    "        raster.SetGeoTransform((oX, pxlW, 0, oY, 0, pxlH))\n",
    "        band = raster.GetRasterBand(1)\n",
    "        band.WriteArray(data)\n",
    "        rasterSRS = osr.SpatialReference()\n",
    "        rasterSRS.ImportFromWkt(oraster.GetProjectionRef())\n",
    "        raster.SetProjection(rasterSRS.ExportToWkt())\n",
    "        band.FlushCache()        \n",
    "\n",
    "class SignalProcessor(object):\n",
    "    def __init__(self, geo_adapter):\n",
    "        self.distance_field = self.compute_distance_field(geo_adapter.get_grid(unit='km'))\n",
    "    def compute_distance_field(self, details):\n",
    "        oX, oY, pxlW, pxlH, cols, rows = details\n",
    "        x = pxlW * (np.arange(-(cols/2), (cols/2), 1) + 0.5)\n",
    "        y = pxlH * (np.arange(-(rows/2), (rows/2), 1) + 0.5)\n",
    "        xx, yy = np.meshgrid(x, y, sparse=True)\n",
    "        return 10 * np.log(xx**2 + yy**2)\n",
    "    def process(self, data):\n",
    "        signal, mask = data\n",
    "        #\n",
    "        # rain_mat_mmh = (10**( ( (rain_mat_DN/2.55-100) + 91.4) /10) )/a_MP)**(1/b_MP)\n",
    "        #Z = (0.39216 * signal - 8.6 + self.distance_field) * mask\n",
    "        Z = 10**(0.1*(0.39216 * signal - 8.6))\n",
    "        return (Z/300)**(1/1.5) * mask\n",
    "\n",
    "class Aggregator(object):\n",
    "    def __init__(self, path_root):\n",
    "        self.path_root = path_root\n",
    "    def aggregate(self, day, hour):\n",
    "        return glob.glob('%s/%s_%s:*.png' % (self.path_root, day, hour))\n",
    "    \n",
    "class RainFallEstimator(object):\n",
    "    def __init__(self, processor, aggregator):\n",
    "        self.processor = processor\n",
    "        self.aggregator = aggregator\n",
    "    def get_image_data(self, path):\n",
    "        im = imageio.imread(path)\n",
    "        return im[:,:,0], im[:,:,3] == 255 # NOTE the mask is on channel 3!!!\n",
    "    def get_precipitation(self, path):\n",
    "        return self.processor.process(self.get_image_data(path))\n",
    "    def aggregate(self, day, hour):\n",
    "        paths = self.aggregator.aggregate(day, hour)\n",
    "        precs = np.dstack([self.get_precipitation(x) for x in paths])\n",
    "        return np.average(precs, axis=2)"
   ]
  },
  {
   "cell_type": "code",
   "execution_count": 58,
   "metadata": {},
   "outputs": [],
   "source": [
    "ga = GeoAdapter('data/radarsample/radarfootprint.tif')"
   ]
  },
  {
   "cell_type": "code",
   "execution_count": 59,
   "metadata": {},
   "outputs": [],
   "source": [
    "processor = SignalProcessor(ga)"
   ]
  },
  {
   "cell_type": "code",
   "execution_count": 60,
   "metadata": {},
   "outputs": [],
   "source": [
    "aggregator = Aggregator(\"data/radarsample/cag01est2400\")"
   ]
  },
  {
   "cell_type": "code",
   "execution_count": 61,
   "metadata": {},
   "outputs": [],
   "source": [
    "rfe = RainFallEstimator(processor, aggregator)"
   ]
  },
  {
   "cell_type": "code",
   "execution_count": 62,
   "metadata": {},
   "outputs": [],
   "source": [
    "signal, mask = rfe.get_image_data(\"data/radarsample/cag01est2400/2018-05-01_23:01:05.png\")"
   ]
  },
  {
   "cell_type": "code",
   "execution_count": 63,
   "metadata": {},
   "outputs": [
    {
     "data": {
      "text/plain": [
       "<matplotlib.contour.QuadContourSet at 0x7f6010f752e8>"
      ]
     },
     "execution_count": 63,
     "metadata": {},
     "output_type": "execute_result"
    },
    {
     "data": {
      "image/png": "[encoded data removed]",
      "text/plain": [
       "<Figure size 432x288 with 1 Axes>"
      ]
     },
     "metadata": {},
     "output_type": "display_data"
    }
   ],
   "source": [
    "plt.contourf(signal)"
   ]
  },
  {
   "cell_type": "code",
   "execution_count": 64,
   "metadata": {},
   "outputs": [],
   "source": [
    "rain = rfe.get_precipitation(\"data/radarsample/cag01est2400/2018-05-01_23:01:05.png\")"
   ]
  },
  {
   "cell_type": "code",
   "execution_count": 68,
   "metadata": {},
   "outputs": [
    {
     "data": {
      "text/plain": [
       "<matplotlib.contour.QuadContourSet at 0x7f600fd0d390>"
      ]
     },
     "execution_count": 68,
     "metadata": {},
     "output_type": "execute_result"
    },
    {
     "data": {
      "image/png": "[encoded data removed]",
      "text/plain": [
       "<Figure size 432x288 with 1 Axes>"
      ]
     },
     "metadata": {},
     "output_type": "display_data"
    }
   ],
   "source": [
    "plt.contourf(rain, levels=[0.        ,  0.30739762,  0.61479523,  0.92219285,  1.22959047,\n",
    "         1.53698809,  1.8443857 ,  2.15178332,  2.45918094,  2.76657856])"
   ]
  },
  {
   "cell_type": "code",
   "execution_count": 70,
   "metadata": {},
   "outputs": [],
   "source": [
    "ga.save_as_raster(rain, \"foo.tif\")"
   ]
  },
  {
   "cell_type": "code",
   "execution_count": 12,
   "metadata": {},
   "outputs": [],
   "source": [
    "def extract_tfw(path):\n",
    "    src = gdal.Open(path)\n",
    "    xform = src.GetGeoTransform()\n",
    "    return xform[1], xform[2], xform[4], xform[5], xform[0]+xform[1]/2, xform[3]+xform[5]/2\n",
    "\n",
    "def extract_prj(path):\n",
    "    src = gdal.Open(path)\n",
    "    src_srs = osr.SpatialReference()\n",
    "    src_srs.ImportFromWkt(src.GetProjection())\n",
    "    src_srs.MorphToESRI()\n",
    "    return src_srs.ExportToWkt()\n",
    "# From https://gis.stackexchange.com/questions/139906/replicating-result-of-gdalwarp-using-gdal-python-bindings\n",
    "def get_wkt(srs_code):\n",
    "    # checks? we need no stinking checks!\n",
    "    geo, code = srs_code.split(':')\n",
    "    srs = osr.SpatialReference()\n",
    "    # force geo to EPSG for the time being\n",
    "    srs.ImportFromEPSG(int(code))\n",
    "    return srs.ExportToWkt()\n",
    "\n",
    "def warp(in_path, out_path, t_srs, s_srs=None):\n",
    "    src_ds = gdal.Open(in_path)\n",
    "    dst_wkt = get_wkt(t_srs)\n",
    "    dst_srs = osr.SpatialReference()\n",
    "    src_wkt = None if s_srs is None else get_wkt(s_srs)\n",
    "    error_threshold = 0.125\n",
    "    resampling = gdal.GRA_NearestNeighbour\n",
    "    # Call AutoCreateWarpedVRT() to fetch default values for target raster dimensions and geotransform\n",
    "    tmp_ds = gdal.AutoCreateWarpedVRT(src_ds,\n",
    "                                      src_wkt,\n",
    "                                      dst_wkt,\n",
    "                                      resampling,\n",
    "                                      error_threshold)\n",
    "    # Create the final warped raster\n",
    "    dst_ds = gdal.GetDriverByName('GTiff').CreateCopy(out_path, tmp_ds)"
   ]
  },
  {
   "cell_type": "code",
   "execution_count": 14,
   "metadata": {},
   "outputs": [
    {
     "data": {
      "text/plain": [
       "'PROJCS[\"Monte_Mario_Italy_zone_1\",GEOGCS[\"GCS_Monte Mario\",DATUM[\"D_Monte_Mario\",SPHEROID[\"International_1924\",6378388,297]],PRIMEM[\"Greenwich\",0],UNIT[\"Degree\",0.017453292519943295]],PROJECTION[\"Transverse_Mercator\"],PARAMETER[\"latitude_of_origin\",0],PARAMETER[\"central_meridian\",9],PARAMETER[\"scale_factor\",0.9996],PARAMETER[\"false_easting\",1500000],PARAMETER[\"false_northing\",0],UNIT[\"Meter\",1]]'"
      ]
     },
     "execution_count": 14,
     "metadata": {},
     "output_type": "execute_result"
    }
   ],
   "source": [
    "extract_prj(\"data/radarsample/radarmappatipo.tif\")"
   ]
  },
  {
   "cell_type": "code",
   "execution_count": 41,
   "metadata": {},
   "outputs": [
    {
     "name": "stdout",
     "output_type": "stream",
     "text": [
      "Creating output file that is 1148P x 891L.\n",
      "Processing data/radarsample/radarmappatipo.tif [1/1] : 0...10...20...30...40...50...60...70...80...90...100 - done.\n"
     ]
    }
   ],
   "source": [
    "! gdalwarp -rb -t_srs EPSG:4326 data/radarsample/radarmappatipo.tif foo_warped.tif"
   ]
  },
  {
   "cell_type": "code",
   "execution_count": 42,
   "metadata": {},
   "outputs": [],
   "source": [
    "warp(\"data/radarsample/radarmappatipo.tif\", \"radarmappatipo_warped.tif\", \"EPSG:4326\", \"EPSG:3003\")"
   ]
  },
  {
   "cell_type": "code",
   "execution_count": 43,
   "metadata": {},
   "outputs": [
    {
     "name": "stdout",
     "output_type": "stream",
     "text": [
      "Creating output file that is 1148P x 891L.\n",
      "Processing data/radarsample/radarmappatipo.tif [1/1] : 0...10...20...30...40...50...60...70...80...90...100 - done.\n"
     ]
    }
   ],
   "source": [
    "! gdalwarp -of GTiff -s_srs epsg:3003 -t_srs epsg:4326 data/radarsample/radarmappatipo.tif foo2_warped.tif"
   ]
  }
 ],
 "metadata": {
  "kernelspec": {
   "display_name": "Python 3",
   "language": "python",
   "name": "python3"
  },
  "language_info": {
   "codemirror_mode": {
    "name": "ipython",
    "version": 3
   },
   "file_extension": ".py",
   "mimetype": "text/x-python",
   "name": "python",
   "nbconvert_exporter": "python",
   "pygments_lexer": "ipython3",
   "version": "3.6.5"
  }
 },
 "nbformat": 4,
 "nbformat_minor": 2
}
